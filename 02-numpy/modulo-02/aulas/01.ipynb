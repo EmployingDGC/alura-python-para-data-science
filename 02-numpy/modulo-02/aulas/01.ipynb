{
 "cells": [
  {
   "cell_type": "code",
   "execution_count": null,
   "metadata": {},
   "outputs": [],
   "source": []
  }
 ],
 "metadata": {
  "kernelspec": {
   "display_name": "Python 3.10.5 ('.venv': venv)",
   "language": "python",
   "name": "python3"
  },
  "language_info": {
   "name": "python",
   "version": "3.10.5"
  },
  "orig_nbformat": 4,
  "vscode": {
   "interpreter": {
    "hash": "138d274bee4c5c9a5e47b0f3a1c76ea770e43ee5b0e304cc7d69ce8837d5a6e8"
   }
  }
 },
 "nbformat": 4,
 "nbformat_minor": 2
}
