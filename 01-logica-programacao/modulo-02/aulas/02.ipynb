{
 "cells": [
  {
   "cell_type": "markdown",
   "metadata": {},
   "source": [
    "# Utilizando Condicionais"
   ]
  },
  {
   "cell_type": "code",
   "execution_count": 1,
   "metadata": {},
   "outputs": [],
   "source": [
    "def tem_permissao_dirigir(idade):\n",
    "    if idade >= 18:\n",
    "        print(f\"Têm permissão para dirigir\")\n",
    "    else:\n",
    "        print(f\"Não têm permissão para dirigir\")"
   ]
  },
  {
   "cell_type": "code",
   "execution_count": 2,
   "metadata": {},
   "outputs": [],
   "source": [
    "idade = 20"
   ]
  },
  {
   "cell_type": "code",
   "execution_count": 3,
   "metadata": {},
   "outputs": [
    {
     "name": "stdout",
     "output_type": "stream",
     "text": [
      "Têm permissão para dirigir\n"
     ]
    }
   ],
   "source": [
    "tem_permissao_dirigir(idade)"
   ]
  },
  {
   "cell_type": "code",
   "execution_count": 4,
   "metadata": {},
   "outputs": [
    {
     "name": "stdout",
     "output_type": "stream",
     "text": [
      "Não têm permissão para dirigir\n"
     ]
    }
   ],
   "source": [
    "tem_permissao_dirigir(15)"
   ]
  },
  {
   "cell_type": "code",
   "execution_count": 5,
   "metadata": {},
   "outputs": [
    {
     "ename": "TypeError",
     "evalue": "'>=' not supported between instances of 'str' and 'int'",
     "output_type": "error",
     "traceback": [
      "\u001b[1;31m---------------------------------------------------------------------------\u001b[0m",
      "\u001b[1;31mTypeError\u001b[0m                                 Traceback (most recent call last)",
      "Cell \u001b[1;32mIn [5], line 1\u001b[0m\n\u001b[1;32m----> 1\u001b[0m tem_permissao_dirigir(\u001b[39minput\u001b[39;49m(\u001b[39m\"\u001b[39;49m\u001b[39mQual sua idade? \u001b[39;49m\u001b[39m\"\u001b[39;49m))\n",
      "Cell \u001b[1;32mIn [1], line 2\u001b[0m, in \u001b[0;36mtem_permissao_dirigir\u001b[1;34m(idade)\u001b[0m\n\u001b[0;32m      1\u001b[0m \u001b[39mdef\u001b[39;00m \u001b[39mtem_permissao_dirigir\u001b[39m(idade):\n\u001b[1;32m----> 2\u001b[0m     \u001b[39mif\u001b[39;00m idade \u001b[39m>\u001b[39;49m\u001b[39m=\u001b[39;49m \u001b[39m18\u001b[39;49m:\n\u001b[0;32m      3\u001b[0m         \u001b[39mprint\u001b[39m(\u001b[39mf\u001b[39m\u001b[39m\"\u001b[39m\u001b[39mTêm permissão para dirigir\u001b[39m\u001b[39m\"\u001b[39m)\n\u001b[0;32m      4\u001b[0m     \u001b[39melse\u001b[39;00m:\n",
      "\u001b[1;31mTypeError\u001b[0m: '>=' not supported between instances of 'str' and 'int'"
     ]
    }
   ],
   "source": [
    "tem_permissao_dirigir(input(\"Qual sua idade? \"))"
   ]
  },
  {
   "cell_type": "code",
   "execution_count": 6,
   "metadata": {},
   "outputs": [
    {
     "name": "stdout",
     "output_type": "stream",
     "text": [
      "Não têm permissão para dirigir\n"
     ]
    }
   ],
   "source": [
    "tem_permissao_dirigir(int(input(\"Qual sua idade? \")))"
   ]
  },
  {
   "cell_type": "code",
   "execution_count": 7,
   "metadata": {},
   "outputs": [],
   "source": [
    "idade = int(input(\"Qual sua idade? \"))"
   ]
  },
  {
   "cell_type": "code",
   "execution_count": 8,
   "metadata": {},
   "outputs": [
    {
     "name": "stdout",
     "output_type": "stream",
     "text": [
      "Têm permissão para dirigir\n"
     ]
    }
   ],
   "source": [
    "tem_permissao_dirigir(idade)"
   ]
  }
 ],
 "metadata": {
  "kernelspec": {
   "display_name": "Python 3.10.5 ('.venv': venv)",
   "language": "python",
   "name": "python3"
  },
  "language_info": {
   "codemirror_mode": {
    "name": "ipython",
    "version": 3
   },
   "file_extension": ".py",
   "mimetype": "text/x-python",
   "name": "python",
   "nbconvert_exporter": "python",
   "pygments_lexer": "ipython3",
   "version": "3.10.5"
  },
  "orig_nbformat": 4,
  "vscode": {
   "interpreter": {
    "hash": "138d274bee4c5c9a5e47b0f3a1c76ea770e43ee5b0e304cc7d69ce8837d5a6e8"
   }
  }
 },
 "nbformat": 4,
 "nbformat_minor": 2
}
