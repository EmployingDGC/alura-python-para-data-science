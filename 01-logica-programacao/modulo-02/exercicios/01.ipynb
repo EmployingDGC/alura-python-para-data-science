{
 "cells": [
  {
   "cell_type": "markdown",
   "metadata": {},
   "source": [
    "# Indo até a padaria\n",
    "\n",
    "Uma pessoa vai até a padaria todos os dias. A distância de sua casa até o estabelecimento\n",
    "é de 100 metros e todo percurso é feito em 20 segundos.\n",
    "\n",
    "Para calcular a velocidade média e descobrir a razão do espaço pelo tempo, podemos\n",
    "dividir o espaço percorrido pelo tempo.\n",
    "\n",
    "Sabendo disso, a pessoa deseja criar uma função chamada velocidade, que recebe 2 parâmetros\n",
    "chamados espaco e tempo, realizar o cálculo e exibir uma saída semelhante ao exemplo abaixo:\n",
    "\n",
    "Velocidade: 5 m/s\n",
    "\n",
    "**Qual das alternativas abaixo descreve esta função?**"
   ]
  },
  {
   "cell_type": "markdown",
   "metadata": {},
   "source": [
    "## [ ] - Alternativa 'A'"
   ]
  },
  {
   "cell_type": "code",
   "execution_count": 3,
   "metadata": {},
   "outputs": [
    {
     "ename": "TypeError",
     "evalue": "velocidade() takes 0 positional arguments but 2 were given",
     "output_type": "error",
     "traceback": [
      "\u001b[1;31m---------------------------------------------------------------------------\u001b[0m",
      "\u001b[1;31mTypeError\u001b[0m                                 Traceback (most recent call last)",
      "Cell \u001b[1;32mIn [3], line 5\u001b[0m\n\u001b[0;32m      2\u001b[0m     v \u001b[39m=\u001b[39m espaco \u001b[39m/\u001b[39m tempo\n\u001b[0;32m      3\u001b[0m     \u001b[39mprint\u001b[39m(\u001b[39mf\u001b[39m\u001b[39m'\u001b[39m\u001b[39mVelocidade: \u001b[39m\u001b[39m{\u001b[39;00mv\u001b[39m}\u001b[39;00m\u001b[39m m/s\u001b[39m\u001b[39m'\u001b[39m)\n\u001b[1;32m----> 5\u001b[0m velocidade(\u001b[39m100\u001b[39;49m, \u001b[39m20\u001b[39;49m)\n",
      "\u001b[1;31mTypeError\u001b[0m: velocidade() takes 0 positional arguments but 2 were given"
     ]
    }
   ],
   "source": [
    "def velocidade():\n",
    "    v = espaco / tempo\n",
    "    print(f'Velocidade: {v} m/s')\n",
    "\n",
    "velocidade(100, 20)"
   ]
  },
  {
   "cell_type": "markdown",
   "metadata": {},
   "source": [
    "## [x] - Alternativa 'B'"
   ]
  },
  {
   "cell_type": "code",
   "execution_count": 2,
   "metadata": {},
   "outputs": [
    {
     "name": "stdout",
     "output_type": "stream",
     "text": [
      "Velocidade: 5.0 m/s\n"
     ]
    }
   ],
   "source": [
    "def velocidade(espaco, tempo):\n",
    "    v = espaco / tempo\n",
    "    print(f'Velocidade: {v} m/s')\n",
    "\n",
    "velocidade(100, 20)"
   ]
  },
  {
   "cell_type": "markdown",
   "metadata": {},
   "source": [
    "## [ ] - Alternativa 'C'"
   ]
  },
  {
   "cell_type": "code",
   "execution_count": 1,
   "metadata": {},
   "outputs": [
    {
     "ename": "NameError",
     "evalue": "name 'velocidade' is not defined",
     "output_type": "error",
     "traceback": [
      "\u001b[1;31m---------------------------------------------------------------------------\u001b[0m",
      "\u001b[1;31mNameError\u001b[0m                                 Traceback (most recent call last)",
      "Cell \u001b[1;32mIn [1], line 5\u001b[0m\n\u001b[0;32m      2\u001b[0m     v \u001b[39m=\u001b[39m espaco \u001b[39m/\u001b[39m tempo\n\u001b[0;32m      3\u001b[0m     \u001b[39mprint\u001b[39m(v)\n\u001b[1;32m----> 5\u001b[0m velocidade(\u001b[39m100\u001b[39m, \u001b[39m20\u001b[39m)\n",
      "\u001b[1;31mNameError\u001b[0m: name 'velocidade' is not defined"
     ]
    }
   ],
   "source": [
    "def calcula_velocidade(espaco, tempo):\n",
    "    v = espaco / tempo\n",
    "    print(v)\n",
    "\n",
    "velocidade(100, 20)"
   ]
  }
 ],
 "metadata": {
  "kernelspec": {
   "display_name": "Python 3.10.5 ('.venv': venv)",
   "language": "python",
   "name": "python3"
  },
  "language_info": {
   "codemirror_mode": {
    "name": "ipython",
    "version": 3
   },
   "file_extension": ".py",
   "mimetype": "text/x-python",
   "name": "python",
   "nbconvert_exporter": "python",
   "pygments_lexer": "ipython3",
   "version": "3.10.5"
  },
  "orig_nbformat": 4,
  "vscode": {
   "interpreter": {
    "hash": "138d274bee4c5c9a5e47b0f3a1c76ea770e43ee5b0e304cc7d69ce8837d5a6e8"
   }
  }
 },
 "nbformat": 4,
 "nbformat_minor": 2
}
