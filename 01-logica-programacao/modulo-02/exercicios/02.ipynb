{
 "cells": [
  {
   "cell_type": "markdown",
   "metadata": {},
   "source": [
    "# Habilitação e TypeError\n",
    "\n",
    "Uma pessoa criou a seguinte função para descobrir quantos anos faltam para tirar\n",
    "habilitação, caso não tenha a idade permitida. Caso tenha, uma mensagem informa\n",
    "que pode tirar habilitação:"
   ]
  },
  {
   "cell_type": "code",
   "execution_count": 1,
   "metadata": {},
   "outputs": [
    {
     "ename": "TypeError",
     "evalue": "'>=' not supported between instances of 'str' and 'int'",
     "output_type": "error",
     "traceback": [
      "\u001b[1;31m---------------------------------------------------------------------------\u001b[0m",
      "\u001b[1;31mTypeError\u001b[0m                                 Traceback (most recent call last)",
      "Cell \u001b[1;32mIn [1], line 9\u001b[0m\n\u001b[0;32m      6\u001b[0m         tempo \u001b[39m=\u001b[39m \u001b[39m18\u001b[39m \u001b[39m-\u001b[39m idade\n\u001b[0;32m      7\u001b[0m         \u001b[39mprint\u001b[39m(\u001b[39mf\u001b[39m\u001b[39m'\u001b[39m\u001b[39mCalma... espere \u001b[39m\u001b[39m{\u001b[39;00mtempo\u001b[39m}\u001b[39;00m\u001b[39m ano(s) para tirar habilitação\u001b[39m\u001b[39m'\u001b[39m)\n\u001b[1;32m----> 9\u001b[0m habilitacao()\n",
      "Cell \u001b[1;32mIn [1], line 3\u001b[0m, in \u001b[0;36mhabilitacao\u001b[1;34m()\u001b[0m\n\u001b[0;32m      1\u001b[0m \u001b[39mdef\u001b[39;00m \u001b[39mhabilitacao\u001b[39m():\n\u001b[0;32m      2\u001b[0m     idade \u001b[39m=\u001b[39m \u001b[39minput\u001b[39m(\u001b[39m'\u001b[39m\u001b[39mQual sua idade? \u001b[39m\u001b[39m'\u001b[39m)\n\u001b[1;32m----> 3\u001b[0m     \u001b[39mif\u001b[39;00m idade \u001b[39m>\u001b[39;49m\u001b[39m=\u001b[39;49m \u001b[39m18\u001b[39;49m:\n\u001b[0;32m      4\u001b[0m         \u001b[39mprint\u001b[39m(\u001b[39m'\u001b[39m\u001b[39mPode tirar habilitação\u001b[39m\u001b[39m'\u001b[39m)\n\u001b[0;32m      5\u001b[0m     \u001b[39melse\u001b[39;00m:\n",
      "\u001b[1;31mTypeError\u001b[0m: '>=' not supported between instances of 'str' and 'int'"
     ]
    }
   ],
   "source": [
    "def habilitacao():\n",
    "    idade = input('Qual sua idade? ')\n",
    "    if idade >= 18:\n",
    "        print('Pode tirar habilitação')\n",
    "    else:\n",
    "        tempo = 18 - idade\n",
    "        print(f'Calma... espere {tempo} ano(s) para tirar habilitação')\n",
    "\n",
    "habilitacao()"
   ]
  },
  {
   "cell_type": "markdown",
   "metadata": {},
   "source": [
    "Porém, ao executar a função recebe a seguinte mensagem de erro:\n",
    "```\n",
    "TypeError: '>=' not supported between instances of 'str' and 'int'\n",
    "```\n",
    "\n",
    "Sabendo disso, analise as afirmações abaixo e marque aquelas que podem ajudar esta pessoa:\n",
    "\n",
    "## [X] - Para solucionar o problema, antes de realizar a comparação, é necessário converter o tipo str da idade para int.\n",
    "\n",
    "## [ ] - Para solucionar o problema, a pessoa pode incluir o seguinte código: idade >= '18'.\n",
    "\n",
    "## [X] - O erro acontece pois o conteúdo da variável idade é do tipo str."
   ]
  }
 ],
 "metadata": {
  "kernelspec": {
   "display_name": "Python 3.10.5 ('.venv': venv)",
   "language": "python",
   "name": "python3"
  },
  "language_info": {
   "codemirror_mode": {
    "name": "ipython",
    "version": 3
   },
   "file_extension": ".py",
   "mimetype": "text/x-python",
   "name": "python",
   "nbconvert_exporter": "python",
   "pygments_lexer": "ipython3",
   "version": "3.10.5"
  },
  "orig_nbformat": 4,
  "vscode": {
   "interpreter": {
    "hash": "138d274bee4c5c9a5e47b0f3a1c76ea770e43ee5b0e304cc7d69ce8837d5a6e8"
   }
  }
 },
 "nbformat": 4,
 "nbformat_minor": 2
}
