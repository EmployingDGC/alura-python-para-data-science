{
 "cells": [
  {
   "cell_type": "markdown",
   "metadata": {},
   "source": [
    "# Loops"
   ]
  },
  {
   "cell_type": "code",
   "execution_count": 1,
   "metadata": {},
   "outputs": [],
   "source": [
    "def verifica_se_pode_dirigir(idade):\n",
    "    if int(idade) >= 18:\n",
    "        print(f\"{idade} anos de idade, TEM permissão para dirigir\")\n",
    "    else:\n",
    "        print(f\"{idade} anos de idade, NÃO TEM permissão para dirigir\")"
   ]
  },
  {
   "cell_type": "code",
   "execution_count": 2,
   "metadata": {},
   "outputs": [],
   "source": [
    "lista_idades = [18, 22, 15, 20]"
   ]
  },
  {
   "cell_type": "code",
   "execution_count": 3,
   "metadata": {},
   "outputs": [
    {
     "name": "stdout",
     "output_type": "stream",
     "text": [
      "18 anos de idade, TEM permissão para dirigir\n",
      "22 anos de idade, TEM permissão para dirigir\n",
      "15 anos de idade, NÃO TEM permissão para dirigir\n",
      "20 anos de idade, TEM permissão para dirigir\n"
     ]
    }
   ],
   "source": [
    "for idade in lista_idades:\n",
    "    verifica_se_pode_dirigir(idade)"
   ]
  },
  {
   "cell_type": "code",
   "execution_count": 4,
   "metadata": {},
   "outputs": [],
   "source": [
    "def verifica_se_pode_dirigir_2(lista_idades):\n",
    "    for idade in lista_idades:\n",
    "        if int(idade) >= 18:\n",
    "            print(f\"{idade} anos de idade, TEM permissão para dirigir\")\n",
    "        else:\n",
    "            print(f\"{idade} anos de idade, NÃO TEM permissão para dirigir\")"
   ]
  },
  {
   "cell_type": "code",
   "execution_count": 5,
   "metadata": {},
   "outputs": [
    {
     "name": "stdout",
     "output_type": "stream",
     "text": [
      "18 anos de idade, TEM permissão para dirigir\n",
      "22 anos de idade, TEM permissão para dirigir\n",
      "15 anos de idade, NÃO TEM permissão para dirigir\n",
      "20 anos de idade, TEM permissão para dirigir\n"
     ]
    }
   ],
   "source": [
    "verifica_se_pode_dirigir_2(lista_idades)"
   ]
  }
 ],
 "metadata": {
  "kernelspec": {
   "display_name": "Python 3.10.5 ('.venv': venv)",
   "language": "python",
   "name": "python3"
  },
  "language_info": {
   "codemirror_mode": {
    "name": "ipython",
    "version": 3
   },
   "file_extension": ".py",
   "mimetype": "text/x-python",
   "name": "python",
   "nbconvert_exporter": "python",
   "pygments_lexer": "ipython3",
   "version": "3.10.5"
  },
  "orig_nbformat": 4,
  "vscode": {
   "interpreter": {
    "hash": "138d274bee4c5c9a5e47b0f3a1c76ea770e43ee5b0e304cc7d69ce8837d5a6e8"
   }
  }
 },
 "nbformat": 4,
 "nbformat_minor": 2
}
